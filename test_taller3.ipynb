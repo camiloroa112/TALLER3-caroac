{
 "cells": [
  {
   "cell_type": "code",
   "execution_count": 1,
   "metadata": {},
   "outputs": [
    {
     "name": "stdout",
     "output_type": "stream",
     "text": [
      "True\n",
      "True\n",
      "Brasil\n",
      "True\n",
      "Flete: 60.0\n",
      "True\n",
      "Ratones comidos: 2\n",
      "True\n",
      "True\n",
      "Kenia\n",
      "True\n",
      "Flete: 3.5\n",
      "True\n"
     ]
    }
   ],
   "source": [
    "# Importing Objects\n",
    "from models.huron import Huron\n",
    "from models.boa_constrictor import Boa_Constrictor\n",
    "\n",
    "# -- Instantiating Boas --\n",
    "boa = Boa_Constrictor(\"Imperator\", 6, 150, \"Brasil\", 0.4)\n",
    "\n",
    "# Obtaining Name\n",
    "print(boa.get_nombre() == \"Imperator\") \n",
    "\n",
    "# Sound Comparison\n",
    "print(boa.sonido_animal() == \"¡Tsss!\") \n",
    "\n",
    "# Obtaining Country\n",
    "print(boa.get_pais())\n",
    "\n",
    "# Obtaining Country\n",
    "print(boa.get_pais() == 'Brasil')\n",
    "\n",
    "# Fleet calculation\n",
    "print(f\"Flete: {boa.calcular_flete()}\")\n",
    "\n",
    "# Comparing Fleet Calculation\n",
    "print(boa.calcular_flete() == 60.0)\n",
    "\n",
    "# Mouse eaten\n",
    "boa.comer(raton_comido = 2)\n",
    "\n",
    "# Message Display\n",
    "print(f\"Ratones comidos: {boa.get_ratones_comidos()}\")\n",
    "\n",
    "# -- Instantiating Huron --\n",
    "huron = Huron(\"Silver\", 4, 10, \"Kenia\", 0.35)\n",
    "\n",
    "# Obtaining Name\n",
    "print(huron.get_nombre() == 'Silver')\n",
    "\n",
    "# Sound Comparison\n",
    "print(huron.sonido_animal() == '¡Eek Eek!')\n",
    "\n",
    "# Obtaining Country\n",
    "print(huron.get_pais())\n",
    "\n",
    "# Obtaining Country\n",
    "print(huron.get_pais() == 'Kenia')\n",
    "\n",
    "# Fleet Calculation\n",
    "print(f\"Flete: {huron.calcular_flete()}\")\n",
    "\n",
    "# Comparing Fleet Calculation\n",
    "print(huron.calcular_flete() == 3.5)"
   ]
  }
 ],
 "metadata": {
  "kernelspec": {
   "display_name": "Python 3",
   "language": "python",
   "name": "python3"
  },
  "language_info": {
   "codemirror_mode": {
    "name": "ipython",
    "version": 3
   },
   "file_extension": ".py",
   "mimetype": "text/x-python",
   "name": "python",
   "nbconvert_exporter": "python",
   "pygments_lexer": "ipython3",
   "version": "3.12.2"
  }
 },
 "nbformat": 4,
 "nbformat_minor": 2
}
